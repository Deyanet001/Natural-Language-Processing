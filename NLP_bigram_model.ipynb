{
  "nbformat": 4,
  "nbformat_minor": 0,
  "metadata": {
    "colab": {
      "provenance": []
    },
    "kernelspec": {
      "name": "python3",
      "display_name": "Python 3"
    },
    "language_info": {
      "name": "python"
    }
  },
  "cells": [
    {
      "cell_type": "code",
      "execution_count": null,
      "metadata": {
        "id": "_ajSuoIwWgsp"
      },
      "outputs": [],
      "source": [
        "import pandas as pd\n",
        "import numpy as np\n",
        "import matplotlib.pyplot"
      ]
    },
    {
      "cell_type": "code",
      "execution_count": null,
      "metadata": {
        "id": "WVNtUvQj_5Tk"
      },
      "outputs": [],
      "source": [
        "!pip install -q kaggle"
      ]
    },
    {
      "cell_type": "code",
      "source": [
        "from google.colab import files\n",
        "files.upload()"
      ],
      "metadata": {
        "colab": {
          "base_uri": "https://localhost:8080/",
          "height": 89
        },
        "id": "dvS9p0aPAbVu",
        "outputId": "8607b158-2313-4c93-d79f-85499686c6f6"
      },
      "execution_count": null,
      "outputs": [
        {
          "output_type": "display_data",
          "data": {
            "text/plain": [
              "<IPython.core.display.HTML object>"
            ],
            "text/html": [
              "\n",
              "     <input type=\"file\" id=\"files-09637702-76dd-47e7-adec-c349e0530c74\" name=\"files[]\" multiple disabled\n",
              "        style=\"border:none\" />\n",
              "     <output id=\"result-09637702-76dd-47e7-adec-c349e0530c74\">\n",
              "      Upload widget is only available when the cell has been executed in the\n",
              "      current browser session. Please rerun this cell to enable.\n",
              "      </output>\n",
              "      <script>// Copyright 2017 Google LLC\n",
              "//\n",
              "// Licensed under the Apache License, Version 2.0 (the \"License\");\n",
              "// you may not use this file except in compliance with the License.\n",
              "// You may obtain a copy of the License at\n",
              "//\n",
              "//      http://www.apache.org/licenses/LICENSE-2.0\n",
              "//\n",
              "// Unless required by applicable law or agreed to in writing, software\n",
              "// distributed under the License is distributed on an \"AS IS\" BASIS,\n",
              "// WITHOUT WARRANTIES OR CONDITIONS OF ANY KIND, either express or implied.\n",
              "// See the License for the specific language governing permissions and\n",
              "// limitations under the License.\n",
              "\n",
              "/**\n",
              " * @fileoverview Helpers for google.colab Python module.\n",
              " */\n",
              "(function(scope) {\n",
              "function span(text, styleAttributes = {}) {\n",
              "  const element = document.createElement('span');\n",
              "  element.textContent = text;\n",
              "  for (const key of Object.keys(styleAttributes)) {\n",
              "    element.style[key] = styleAttributes[key];\n",
              "  }\n",
              "  return element;\n",
              "}\n",
              "\n",
              "// Max number of bytes which will be uploaded at a time.\n",
              "const MAX_PAYLOAD_SIZE = 100 * 1024;\n",
              "\n",
              "function _uploadFiles(inputId, outputId) {\n",
              "  const steps = uploadFilesStep(inputId, outputId);\n",
              "  const outputElement = document.getElementById(outputId);\n",
              "  // Cache steps on the outputElement to make it available for the next call\n",
              "  // to uploadFilesContinue from Python.\n",
              "  outputElement.steps = steps;\n",
              "\n",
              "  return _uploadFilesContinue(outputId);\n",
              "}\n",
              "\n",
              "// This is roughly an async generator (not supported in the browser yet),\n",
              "// where there are multiple asynchronous steps and the Python side is going\n",
              "// to poll for completion of each step.\n",
              "// This uses a Promise to block the python side on completion of each step,\n",
              "// then passes the result of the previous step as the input to the next step.\n",
              "function _uploadFilesContinue(outputId) {\n",
              "  const outputElement = document.getElementById(outputId);\n",
              "  const steps = outputElement.steps;\n",
              "\n",
              "  const next = steps.next(outputElement.lastPromiseValue);\n",
              "  return Promise.resolve(next.value.promise).then((value) => {\n",
              "    // Cache the last promise value to make it available to the next\n",
              "    // step of the generator.\n",
              "    outputElement.lastPromiseValue = value;\n",
              "    return next.value.response;\n",
              "  });\n",
              "}\n",
              "\n",
              "/**\n",
              " * Generator function which is called between each async step of the upload\n",
              " * process.\n",
              " * @param {string} inputId Element ID of the input file picker element.\n",
              " * @param {string} outputId Element ID of the output display.\n",
              " * @return {!Iterable<!Object>} Iterable of next steps.\n",
              " */\n",
              "function* uploadFilesStep(inputId, outputId) {\n",
              "  const inputElement = document.getElementById(inputId);\n",
              "  inputElement.disabled = false;\n",
              "\n",
              "  const outputElement = document.getElementById(outputId);\n",
              "  outputElement.innerHTML = '';\n",
              "\n",
              "  const pickedPromise = new Promise((resolve) => {\n",
              "    inputElement.addEventListener('change', (e) => {\n",
              "      resolve(e.target.files);\n",
              "    });\n",
              "  });\n",
              "\n",
              "  const cancel = document.createElement('button');\n",
              "  inputElement.parentElement.appendChild(cancel);\n",
              "  cancel.textContent = 'Cancel upload';\n",
              "  const cancelPromise = new Promise((resolve) => {\n",
              "    cancel.onclick = () => {\n",
              "      resolve(null);\n",
              "    };\n",
              "  });\n",
              "\n",
              "  // Wait for the user to pick the files.\n",
              "  const files = yield {\n",
              "    promise: Promise.race([pickedPromise, cancelPromise]),\n",
              "    response: {\n",
              "      action: 'starting',\n",
              "    }\n",
              "  };\n",
              "\n",
              "  cancel.remove();\n",
              "\n",
              "  // Disable the input element since further picks are not allowed.\n",
              "  inputElement.disabled = true;\n",
              "\n",
              "  if (!files) {\n",
              "    return {\n",
              "      response: {\n",
              "        action: 'complete',\n",
              "      }\n",
              "    };\n",
              "  }\n",
              "\n",
              "  for (const file of files) {\n",
              "    const li = document.createElement('li');\n",
              "    li.append(span(file.name, {fontWeight: 'bold'}));\n",
              "    li.append(span(\n",
              "        `(${file.type || 'n/a'}) - ${file.size} bytes, ` +\n",
              "        `last modified: ${\n",
              "            file.lastModifiedDate ? file.lastModifiedDate.toLocaleDateString() :\n",
              "                                    'n/a'} - `));\n",
              "    const percent = span('0% done');\n",
              "    li.appendChild(percent);\n",
              "\n",
              "    outputElement.appendChild(li);\n",
              "\n",
              "    const fileDataPromise = new Promise((resolve) => {\n",
              "      const reader = new FileReader();\n",
              "      reader.onload = (e) => {\n",
              "        resolve(e.target.result);\n",
              "      };\n",
              "      reader.readAsArrayBuffer(file);\n",
              "    });\n",
              "    // Wait for the data to be ready.\n",
              "    let fileData = yield {\n",
              "      promise: fileDataPromise,\n",
              "      response: {\n",
              "        action: 'continue',\n",
              "      }\n",
              "    };\n",
              "\n",
              "    // Use a chunked sending to avoid message size limits. See b/62115660.\n",
              "    let position = 0;\n",
              "    do {\n",
              "      const length = Math.min(fileData.byteLength - position, MAX_PAYLOAD_SIZE);\n",
              "      const chunk = new Uint8Array(fileData, position, length);\n",
              "      position += length;\n",
              "\n",
              "      const base64 = btoa(String.fromCharCode.apply(null, chunk));\n",
              "      yield {\n",
              "        response: {\n",
              "          action: 'append',\n",
              "          file: file.name,\n",
              "          data: base64,\n",
              "        },\n",
              "      };\n",
              "\n",
              "      let percentDone = fileData.byteLength === 0 ?\n",
              "          100 :\n",
              "          Math.round((position / fileData.byteLength) * 100);\n",
              "      percent.textContent = `${percentDone}% done`;\n",
              "\n",
              "    } while (position < fileData.byteLength);\n",
              "  }\n",
              "\n",
              "  // All done.\n",
              "  yield {\n",
              "    response: {\n",
              "      action: 'complete',\n",
              "    }\n",
              "  };\n",
              "}\n",
              "\n",
              "scope.google = scope.google || {};\n",
              "scope.google.colab = scope.google.colab || {};\n",
              "scope.google.colab._files = {\n",
              "  _uploadFiles,\n",
              "  _uploadFilesContinue,\n",
              "};\n",
              "})(self);\n",
              "</script> "
            ]
          },
          "metadata": {}
        },
        {
          "output_type": "stream",
          "name": "stdout",
          "text": [
            "Saving kaggle.json to kaggle.json\n"
          ]
        },
        {
          "output_type": "execute_result",
          "data": {
            "text/plain": [
              "{'kaggle.json': b'{\"username\":\"qasmovdyant\",\"key\":\"4d4759066dca189587bcac8981b34740\"}'}"
            ]
          },
          "metadata": {},
          "execution_count": 28
        }
      ]
    },
    {
      "cell_type": "code",
      "source": [
        "!mkdir ~/.kaggle\n",
        "!cp kaggle.json ~/.kaggle/"
      ],
      "metadata": {
        "id": "6SomkvBSAcEa",
        "colab": {
          "base_uri": "https://localhost:8080/"
        },
        "outputId": "ccf24950-592c-4801-9b3e-37eda1abf314"
      },
      "execution_count": null,
      "outputs": [
        {
          "output_type": "stream",
          "name": "stdout",
          "text": [
            "mkdir: cannot create directory ‘/root/.kaggle’: File exists\n"
          ]
        }
      ]
    },
    {
      "cell_type": "code",
      "source": [
        "!chmod 600 ~/.kaggle/kaggle.json"
      ],
      "metadata": {
        "id": "23S7cH7dAb-6"
      },
      "execution_count": null,
      "outputs": []
    },
    {
      "cell_type": "code",
      "source": [
        "!kaggle datasets download -d leangab/poe-short-stories-corpuscsv"
      ],
      "metadata": {
        "colab": {
          "base_uri": "https://localhost:8080/"
        },
        "id": "1gwaLmpVXNTP",
        "outputId": "9bb9e6b9-534f-4f64-98ec-80a29d2c34ca"
      },
      "execution_count": null,
      "outputs": [
        {
          "output_type": "stream",
          "name": "stdout",
          "text": [
            "Dataset URL: https://www.kaggle.com/datasets/leangab/poe-short-stories-corpuscsv\n",
            "License(s): other\n"
          ]
        }
      ]
    },
    {
      "cell_type": "code",
      "source": [
        "!wget https://raw.githubusercontent.com/databyhuseyn/DeepLearning/main/helper_functions.py"
      ],
      "metadata": {
        "colab": {
          "base_uri": "https://localhost:8080/"
        },
        "id": "yC407re1XULf",
        "outputId": "a36af983-d8f1-4f30-8efa-632ced355502"
      },
      "execution_count": null,
      "outputs": [
        {
          "output_type": "stream",
          "name": "stdout",
          "text": [
            "--2025-05-02 08:31:56--  https://raw.githubusercontent.com/databyhuseyn/DeepLearning/main/helper_functions.py\n",
            "Resolving raw.githubusercontent.com (raw.githubusercontent.com)... 185.199.108.133, 185.199.109.133, 185.199.110.133, ...\n",
            "Connecting to raw.githubusercontent.com (raw.githubusercontent.com)|185.199.108.133|:443... connected.\n",
            "HTTP request sent, awaiting response... 200 OK\n",
            "Length: 10246 (10K) [text/plain]\n",
            "Saving to: ‘helper_functions.py.1’\n",
            "\n",
            "\rhelper_functions.py   0%[                    ]       0  --.-KB/s               \rhelper_functions.py 100%[===================>]  10.01K  --.-KB/s    in 0.001s  \n",
            "\n",
            "2025-05-02 08:31:56 (15.3 MB/s) - ‘helper_functions.py.1’ saved [10246/10246]\n",
            "\n"
          ]
        }
      ]
    },
    {
      "cell_type": "code",
      "source": [
        "from helper_functions import unzip_data"
      ],
      "metadata": {
        "id": "E8iHmtmsXjQJ"
      },
      "execution_count": null,
      "outputs": []
    },
    {
      "cell_type": "code",
      "source": [
        "unzip_data('/content/poe-short-stories-corpuscsv.zip')"
      ],
      "metadata": {
        "id": "C7r2bpEYYIHs"
      },
      "execution_count": null,
      "outputs": []
    },
    {
      "cell_type": "code",
      "source": [
        "df = pd.read_csv('/content/preprocessed_data.csv')\n",
        "df"
      ],
      "metadata": {
        "id": "jI3L2rtYYOfP",
        "colab": {
          "base_uri": "https://localhost:8080/",
          "height": 1000
        },
        "outputId": "f7d43127-0a8f-4a01-8af9-26d2d212ffce"
      },
      "execution_count": null,
      "outputs": [
        {
          "output_type": "execute_result",
          "data": {
            "text/plain": [
              "                                            title  \\\n",
              "0                    A DESCENT INTO THE MAELSTRÖM   \n",
              "1                                   A PREDICAMENT   \n",
              "2                             A TALE OF JERUSALEM   \n",
              "3                  A TALE OF THE RAGGED MOUNTAINS   \n",
              "4                                        BERENICE   \n",
              "..                                            ...   \n",
              "65                               THE BALLOON-HOAX   \n",
              "66                     THE MYSTERY OF MARIE ROGET   \n",
              "67                           THE POETIC PRINCIPLE   \n",
              "68  THE UNPARALLELED ADVENTURES OF ONE HANS PFAAL   \n",
              "69                              X-ING A PARAGRAPH   \n",
              "\n",
              "                                                 text  \\\n",
              "0   The ways of God in Nature, as in Providence, a...   \n",
              "1   What chance, good lady, hath bereft you thus? ...   \n",
              "2   Intensos rigidarn in frontern ascendere canos ...   \n",
              "3   DURING the fall of the year 1827, while residi...   \n",
              "4   Dicebant mihi sodales, si sepulchrum amicae vi...   \n",
              "..                                                ...   \n",
              "65  [Astounding News by Express, via Norfolk!—The ...   \n",
              "66  A SEQUEL TO “THE MURDERS IN THE RUE MORGUE.”  ...   \n",
              "67  IN speaking of the Poetic Principle, I have no...   \n",
              "68  BY late accounts from Rotterdam, that city see...   \n",
              "69  AS it is well known that the ‘wise men’ came ‘...   \n",
              "\n",
              "                   wikipedia_title publication_date  \\\n",
              "0     A Descent into the Maelström         May 1841   \n",
              "1                    A Predicament    November 1838   \n",
              "2              A Tale of Jerusalem     June 9, 1832   \n",
              "3   A Tale of the Ragged Mountains       April 1844   \n",
              "4                         Berenice       March 1835   \n",
              "..                             ...              ...   \n",
              "65                               ?   April 13, 1844   \n",
              "66                               ?    November 1842   \n",
              "67                               ?  August 17, 1849   \n",
              "68                               ?        June 1835   \n",
              "69                               ?     May 12, 1849   \n",
              "\n",
              "               first_published_in             classification  \\\n",
              "0               Graham's Magazine                  Adventure   \n",
              "1       Baltimore American Museum                     Parody   \n",
              "2   Philadelphia Saturday Courier                      Humor   \n",
              "3             Godey's Lady's Book  Adventure,Science_fiction   \n",
              "4     Southern Literary Messenger                     Horror   \n",
              "..                            ...                        ...   \n",
              "65                              ?               Fiction,Hoax   \n",
              "66                              ?          Detective_fiction   \n",
              "67                              ?                      Essay   \n",
              "68                              ?       Hoax,Science_fiction   \n",
              "69                              ?                     Satire   \n",
              "\n",
              "                                                notes normalized_date  \n",
              "0                                                   ?        May 1841  \n",
              "1   Companion to \"How to Write a Blackwood Article...   November 1838  \n",
              "2                                                   ?       June 1832  \n",
              "3                                                   ?      April 1844  \n",
              "4                                                   ?      March 1835  \n",
              "..                                                ...             ...  \n",
              "65                                                  ?      April 1844  \n",
              "66                                                  ?   November 1842  \n",
              "67                                                  ?     August 1849  \n",
              "68                                                  ?       June 1835  \n",
              "69                                                  ?        May 1849  \n",
              "\n",
              "[70 rows x 8 columns]"
            ],
            "text/html": [
              "\n",
              "  <div id=\"df-a9a74251-137c-4321-8687-7780d88330be\" class=\"colab-df-container\">\n",
              "    <div>\n",
              "<style scoped>\n",
              "    .dataframe tbody tr th:only-of-type {\n",
              "        vertical-align: middle;\n",
              "    }\n",
              "\n",
              "    .dataframe tbody tr th {\n",
              "        vertical-align: top;\n",
              "    }\n",
              "\n",
              "    .dataframe thead th {\n",
              "        text-align: right;\n",
              "    }\n",
              "</style>\n",
              "<table border=\"1\" class=\"dataframe\">\n",
              "  <thead>\n",
              "    <tr style=\"text-align: right;\">\n",
              "      <th></th>\n",
              "      <th>title</th>\n",
              "      <th>text</th>\n",
              "      <th>wikipedia_title</th>\n",
              "      <th>publication_date</th>\n",
              "      <th>first_published_in</th>\n",
              "      <th>classification</th>\n",
              "      <th>notes</th>\n",
              "      <th>normalized_date</th>\n",
              "    </tr>\n",
              "  </thead>\n",
              "  <tbody>\n",
              "    <tr>\n",
              "      <th>0</th>\n",
              "      <td>A DESCENT INTO THE MAELSTRÖM</td>\n",
              "      <td>The ways of God in Nature, as in Providence, a...</td>\n",
              "      <td>A Descent into the Maelström</td>\n",
              "      <td>May 1841</td>\n",
              "      <td>Graham's Magazine</td>\n",
              "      <td>Adventure</td>\n",
              "      <td>?</td>\n",
              "      <td>May 1841</td>\n",
              "    </tr>\n",
              "    <tr>\n",
              "      <th>1</th>\n",
              "      <td>A PREDICAMENT</td>\n",
              "      <td>What chance, good lady, hath bereft you thus? ...</td>\n",
              "      <td>A Predicament</td>\n",
              "      <td>November 1838</td>\n",
              "      <td>Baltimore American Museum</td>\n",
              "      <td>Parody</td>\n",
              "      <td>Companion to \"How to Write a Blackwood Article...</td>\n",
              "      <td>November 1838</td>\n",
              "    </tr>\n",
              "    <tr>\n",
              "      <th>2</th>\n",
              "      <td>A TALE OF JERUSALEM</td>\n",
              "      <td>Intensos rigidarn in frontern ascendere canos ...</td>\n",
              "      <td>A Tale of Jerusalem</td>\n",
              "      <td>June 9, 1832</td>\n",
              "      <td>Philadelphia Saturday Courier</td>\n",
              "      <td>Humor</td>\n",
              "      <td>?</td>\n",
              "      <td>June 1832</td>\n",
              "    </tr>\n",
              "    <tr>\n",
              "      <th>3</th>\n",
              "      <td>A TALE OF THE RAGGED MOUNTAINS</td>\n",
              "      <td>DURING the fall of the year 1827, while residi...</td>\n",
              "      <td>A Tale of the Ragged Mountains</td>\n",
              "      <td>April 1844</td>\n",
              "      <td>Godey's Lady's Book</td>\n",
              "      <td>Adventure,Science_fiction</td>\n",
              "      <td>?</td>\n",
              "      <td>April 1844</td>\n",
              "    </tr>\n",
              "    <tr>\n",
              "      <th>4</th>\n",
              "      <td>BERENICE</td>\n",
              "      <td>Dicebant mihi sodales, si sepulchrum amicae vi...</td>\n",
              "      <td>Berenice</td>\n",
              "      <td>March 1835</td>\n",
              "      <td>Southern Literary Messenger</td>\n",
              "      <td>Horror</td>\n",
              "      <td>?</td>\n",
              "      <td>March 1835</td>\n",
              "    </tr>\n",
              "    <tr>\n",
              "      <th>...</th>\n",
              "      <td>...</td>\n",
              "      <td>...</td>\n",
              "      <td>...</td>\n",
              "      <td>...</td>\n",
              "      <td>...</td>\n",
              "      <td>...</td>\n",
              "      <td>...</td>\n",
              "      <td>...</td>\n",
              "    </tr>\n",
              "    <tr>\n",
              "      <th>65</th>\n",
              "      <td>THE BALLOON-HOAX</td>\n",
              "      <td>[Astounding News by Express, via Norfolk!—The ...</td>\n",
              "      <td>?</td>\n",
              "      <td>April 13, 1844</td>\n",
              "      <td>?</td>\n",
              "      <td>Fiction,Hoax</td>\n",
              "      <td>?</td>\n",
              "      <td>April 1844</td>\n",
              "    </tr>\n",
              "    <tr>\n",
              "      <th>66</th>\n",
              "      <td>THE MYSTERY OF MARIE ROGET</td>\n",
              "      <td>A SEQUEL TO “THE MURDERS IN THE RUE MORGUE.”  ...</td>\n",
              "      <td>?</td>\n",
              "      <td>November 1842</td>\n",
              "      <td>?</td>\n",
              "      <td>Detective_fiction</td>\n",
              "      <td>?</td>\n",
              "      <td>November 1842</td>\n",
              "    </tr>\n",
              "    <tr>\n",
              "      <th>67</th>\n",
              "      <td>THE POETIC PRINCIPLE</td>\n",
              "      <td>IN speaking of the Poetic Principle, I have no...</td>\n",
              "      <td>?</td>\n",
              "      <td>August 17, 1849</td>\n",
              "      <td>?</td>\n",
              "      <td>Essay</td>\n",
              "      <td>?</td>\n",
              "      <td>August 1849</td>\n",
              "    </tr>\n",
              "    <tr>\n",
              "      <th>68</th>\n",
              "      <td>THE UNPARALLELED ADVENTURES OF ONE HANS PFAAL</td>\n",
              "      <td>BY late accounts from Rotterdam, that city see...</td>\n",
              "      <td>?</td>\n",
              "      <td>June 1835</td>\n",
              "      <td>?</td>\n",
              "      <td>Hoax,Science_fiction</td>\n",
              "      <td>?</td>\n",
              "      <td>June 1835</td>\n",
              "    </tr>\n",
              "    <tr>\n",
              "      <th>69</th>\n",
              "      <td>X-ING A PARAGRAPH</td>\n",
              "      <td>AS it is well known that the ‘wise men’ came ‘...</td>\n",
              "      <td>?</td>\n",
              "      <td>May 12, 1849</td>\n",
              "      <td>?</td>\n",
              "      <td>Satire</td>\n",
              "      <td>?</td>\n",
              "      <td>May 1849</td>\n",
              "    </tr>\n",
              "  </tbody>\n",
              "</table>\n",
              "<p>70 rows × 8 columns</p>\n",
              "</div>\n",
              "    <div class=\"colab-df-buttons\">\n",
              "\n",
              "  <div class=\"colab-df-container\">\n",
              "    <button class=\"colab-df-convert\" onclick=\"convertToInteractive('df-a9a74251-137c-4321-8687-7780d88330be')\"\n",
              "            title=\"Convert this dataframe to an interactive table.\"\n",
              "            style=\"display:none;\">\n",
              "\n",
              "  <svg xmlns=\"http://www.w3.org/2000/svg\" height=\"24px\" viewBox=\"0 -960 960 960\">\n",
              "    <path d=\"M120-120v-720h720v720H120Zm60-500h600v-160H180v160Zm220 220h160v-160H400v160Zm0 220h160v-160H400v160ZM180-400h160v-160H180v160Zm440 0h160v-160H620v160ZM180-180h160v-160H180v160Zm440 0h160v-160H620v160Z\"/>\n",
              "  </svg>\n",
              "    </button>\n",
              "\n",
              "  <style>\n",
              "    .colab-df-container {\n",
              "      display:flex;\n",
              "      gap: 12px;\n",
              "    }\n",
              "\n",
              "    .colab-df-convert {\n",
              "      background-color: #E8F0FE;\n",
              "      border: none;\n",
              "      border-radius: 50%;\n",
              "      cursor: pointer;\n",
              "      display: none;\n",
              "      fill: #1967D2;\n",
              "      height: 32px;\n",
              "      padding: 0 0 0 0;\n",
              "      width: 32px;\n",
              "    }\n",
              "\n",
              "    .colab-df-convert:hover {\n",
              "      background-color: #E2EBFA;\n",
              "      box-shadow: 0px 1px 2px rgba(60, 64, 67, 0.3), 0px 1px 3px 1px rgba(60, 64, 67, 0.15);\n",
              "      fill: #174EA6;\n",
              "    }\n",
              "\n",
              "    .colab-df-buttons div {\n",
              "      margin-bottom: 4px;\n",
              "    }\n",
              "\n",
              "    [theme=dark] .colab-df-convert {\n",
              "      background-color: #3B4455;\n",
              "      fill: #D2E3FC;\n",
              "    }\n",
              "\n",
              "    [theme=dark] .colab-df-convert:hover {\n",
              "      background-color: #434B5C;\n",
              "      box-shadow: 0px 1px 3px 1px rgba(0, 0, 0, 0.15);\n",
              "      filter: drop-shadow(0px 1px 2px rgba(0, 0, 0, 0.3));\n",
              "      fill: #FFFFFF;\n",
              "    }\n",
              "  </style>\n",
              "\n",
              "    <script>\n",
              "      const buttonEl =\n",
              "        document.querySelector('#df-a9a74251-137c-4321-8687-7780d88330be button.colab-df-convert');\n",
              "      buttonEl.style.display =\n",
              "        google.colab.kernel.accessAllowed ? 'block' : 'none';\n",
              "\n",
              "      async function convertToInteractive(key) {\n",
              "        const element = document.querySelector('#df-a9a74251-137c-4321-8687-7780d88330be');\n",
              "        const dataTable =\n",
              "          await google.colab.kernel.invokeFunction('convertToInteractive',\n",
              "                                                    [key], {});\n",
              "        if (!dataTable) return;\n",
              "\n",
              "        const docLinkHtml = 'Like what you see? Visit the ' +\n",
              "          '<a target=\"_blank\" href=https://colab.research.google.com/notebooks/data_table.ipynb>data table notebook</a>'\n",
              "          + ' to learn more about interactive tables.';\n",
              "        element.innerHTML = '';\n",
              "        dataTable['output_type'] = 'display_data';\n",
              "        await google.colab.output.renderOutput(dataTable, element);\n",
              "        const docLink = document.createElement('div');\n",
              "        docLink.innerHTML = docLinkHtml;\n",
              "        element.appendChild(docLink);\n",
              "      }\n",
              "    </script>\n",
              "  </div>\n",
              "\n",
              "\n",
              "    <div id=\"df-19b17544-383e-407f-bce6-beacd24926ff\">\n",
              "      <button class=\"colab-df-quickchart\" onclick=\"quickchart('df-19b17544-383e-407f-bce6-beacd24926ff')\"\n",
              "                title=\"Suggest charts\"\n",
              "                style=\"display:none;\">\n",
              "\n",
              "<svg xmlns=\"http://www.w3.org/2000/svg\" height=\"24px\"viewBox=\"0 0 24 24\"\n",
              "     width=\"24px\">\n",
              "    <g>\n",
              "        <path d=\"M19 3H5c-1.1 0-2 .9-2 2v14c0 1.1.9 2 2 2h14c1.1 0 2-.9 2-2V5c0-1.1-.9-2-2-2zM9 17H7v-7h2v7zm4 0h-2V7h2v10zm4 0h-2v-4h2v4z\"/>\n",
              "    </g>\n",
              "</svg>\n",
              "      </button>\n",
              "\n",
              "<style>\n",
              "  .colab-df-quickchart {\n",
              "      --bg-color: #E8F0FE;\n",
              "      --fill-color: #1967D2;\n",
              "      --hover-bg-color: #E2EBFA;\n",
              "      --hover-fill-color: #174EA6;\n",
              "      --disabled-fill-color: #AAA;\n",
              "      --disabled-bg-color: #DDD;\n",
              "  }\n",
              "\n",
              "  [theme=dark] .colab-df-quickchart {\n",
              "      --bg-color: #3B4455;\n",
              "      --fill-color: #D2E3FC;\n",
              "      --hover-bg-color: #434B5C;\n",
              "      --hover-fill-color: #FFFFFF;\n",
              "      --disabled-bg-color: #3B4455;\n",
              "      --disabled-fill-color: #666;\n",
              "  }\n",
              "\n",
              "  .colab-df-quickchart {\n",
              "    background-color: var(--bg-color);\n",
              "    border: none;\n",
              "    border-radius: 50%;\n",
              "    cursor: pointer;\n",
              "    display: none;\n",
              "    fill: var(--fill-color);\n",
              "    height: 32px;\n",
              "    padding: 0;\n",
              "    width: 32px;\n",
              "  }\n",
              "\n",
              "  .colab-df-quickchart:hover {\n",
              "    background-color: var(--hover-bg-color);\n",
              "    box-shadow: 0 1px 2px rgba(60, 64, 67, 0.3), 0 1px 3px 1px rgba(60, 64, 67, 0.15);\n",
              "    fill: var(--button-hover-fill-color);\n",
              "  }\n",
              "\n",
              "  .colab-df-quickchart-complete:disabled,\n",
              "  .colab-df-quickchart-complete:disabled:hover {\n",
              "    background-color: var(--disabled-bg-color);\n",
              "    fill: var(--disabled-fill-color);\n",
              "    box-shadow: none;\n",
              "  }\n",
              "\n",
              "  .colab-df-spinner {\n",
              "    border: 2px solid var(--fill-color);\n",
              "    border-color: transparent;\n",
              "    border-bottom-color: var(--fill-color);\n",
              "    animation:\n",
              "      spin 1s steps(1) infinite;\n",
              "  }\n",
              "\n",
              "  @keyframes spin {\n",
              "    0% {\n",
              "      border-color: transparent;\n",
              "      border-bottom-color: var(--fill-color);\n",
              "      border-left-color: var(--fill-color);\n",
              "    }\n",
              "    20% {\n",
              "      border-color: transparent;\n",
              "      border-left-color: var(--fill-color);\n",
              "      border-top-color: var(--fill-color);\n",
              "    }\n",
              "    30% {\n",
              "      border-color: transparent;\n",
              "      border-left-color: var(--fill-color);\n",
              "      border-top-color: var(--fill-color);\n",
              "      border-right-color: var(--fill-color);\n",
              "    }\n",
              "    40% {\n",
              "      border-color: transparent;\n",
              "      border-right-color: var(--fill-color);\n",
              "      border-top-color: var(--fill-color);\n",
              "    }\n",
              "    60% {\n",
              "      border-color: transparent;\n",
              "      border-right-color: var(--fill-color);\n",
              "    }\n",
              "    80% {\n",
              "      border-color: transparent;\n",
              "      border-right-color: var(--fill-color);\n",
              "      border-bottom-color: var(--fill-color);\n",
              "    }\n",
              "    90% {\n",
              "      border-color: transparent;\n",
              "      border-bottom-color: var(--fill-color);\n",
              "    }\n",
              "  }\n",
              "</style>\n",
              "\n",
              "      <script>\n",
              "        async function quickchart(key) {\n",
              "          const quickchartButtonEl =\n",
              "            document.querySelector('#' + key + ' button');\n",
              "          quickchartButtonEl.disabled = true;  // To prevent multiple clicks.\n",
              "          quickchartButtonEl.classList.add('colab-df-spinner');\n",
              "          try {\n",
              "            const charts = await google.colab.kernel.invokeFunction(\n",
              "                'suggestCharts', [key], {});\n",
              "          } catch (error) {\n",
              "            console.error('Error during call to suggestCharts:', error);\n",
              "          }\n",
              "          quickchartButtonEl.classList.remove('colab-df-spinner');\n",
              "          quickchartButtonEl.classList.add('colab-df-quickchart-complete');\n",
              "        }\n",
              "        (() => {\n",
              "          let quickchartButtonEl =\n",
              "            document.querySelector('#df-19b17544-383e-407f-bce6-beacd24926ff button');\n",
              "          quickchartButtonEl.style.display =\n",
              "            google.colab.kernel.accessAllowed ? 'block' : 'none';\n",
              "        })();\n",
              "      </script>\n",
              "    </div>\n",
              "\n",
              "  <div id=\"id_9453fe6b-b1cc-4bd4-b63f-3beab4dc5ffb\">\n",
              "    <style>\n",
              "      .colab-df-generate {\n",
              "        background-color: #E8F0FE;\n",
              "        border: none;\n",
              "        border-radius: 50%;\n",
              "        cursor: pointer;\n",
              "        display: none;\n",
              "        fill: #1967D2;\n",
              "        height: 32px;\n",
              "        padding: 0 0 0 0;\n",
              "        width: 32px;\n",
              "      }\n",
              "\n",
              "      .colab-df-generate:hover {\n",
              "        background-color: #E2EBFA;\n",
              "        box-shadow: 0px 1px 2px rgba(60, 64, 67, 0.3), 0px 1px 3px 1px rgba(60, 64, 67, 0.15);\n",
              "        fill: #174EA6;\n",
              "      }\n",
              "\n",
              "      [theme=dark] .colab-df-generate {\n",
              "        background-color: #3B4455;\n",
              "        fill: #D2E3FC;\n",
              "      }\n",
              "\n",
              "      [theme=dark] .colab-df-generate:hover {\n",
              "        background-color: #434B5C;\n",
              "        box-shadow: 0px 1px 3px 1px rgba(0, 0, 0, 0.15);\n",
              "        filter: drop-shadow(0px 1px 2px rgba(0, 0, 0, 0.3));\n",
              "        fill: #FFFFFF;\n",
              "      }\n",
              "    </style>\n",
              "    <button class=\"colab-df-generate\" onclick=\"generateWithVariable('df')\"\n",
              "            title=\"Generate code using this dataframe.\"\n",
              "            style=\"display:none;\">\n",
              "\n",
              "  <svg xmlns=\"http://www.w3.org/2000/svg\" height=\"24px\"viewBox=\"0 0 24 24\"\n",
              "       width=\"24px\">\n",
              "    <path d=\"M7,19H8.4L18.45,9,17,7.55,7,17.6ZM5,21V16.75L18.45,3.32a2,2,0,0,1,2.83,0l1.4,1.43a1.91,1.91,0,0,1,.58,1.4,1.91,1.91,0,0,1-.58,1.4L9.25,21ZM18.45,9,17,7.55Zm-12,3A5.31,5.31,0,0,0,4.9,8.1,5.31,5.31,0,0,0,1,6.5,5.31,5.31,0,0,0,4.9,4.9,5.31,5.31,0,0,0,6.5,1,5.31,5.31,0,0,0,8.1,4.9,5.31,5.31,0,0,0,12,6.5,5.46,5.46,0,0,0,6.5,12Z\"/>\n",
              "  </svg>\n",
              "    </button>\n",
              "    <script>\n",
              "      (() => {\n",
              "      const buttonEl =\n",
              "        document.querySelector('#id_9453fe6b-b1cc-4bd4-b63f-3beab4dc5ffb button.colab-df-generate');\n",
              "      buttonEl.style.display =\n",
              "        google.colab.kernel.accessAllowed ? 'block' : 'none';\n",
              "\n",
              "      buttonEl.onclick = () => {\n",
              "        google.colab.notebook.generateWithVariable('df');\n",
              "      }\n",
              "      })();\n",
              "    </script>\n",
              "  </div>\n",
              "\n",
              "    </div>\n",
              "  </div>\n"
            ],
            "application/vnd.google.colaboratory.intrinsic+json": {
              "type": "dataframe",
              "variable_name": "df",
              "summary": "{\n  \"name\": \"df\",\n  \"rows\": 70,\n  \"fields\": [\n    {\n      \"column\": \"title\",\n      \"properties\": {\n        \"dtype\": \"string\",\n        \"num_unique_values\": 70,\n        \"samples\": [\n          \"SHADOW\\u2014A PARABLE\",\n          \"A DESCENT INTO THE MAELSTR\\u00d6M\",\n          \"THE POWER OF WORDS\"\n        ],\n        \"semantic_type\": \"\",\n        \"description\": \"\"\n      }\n    },\n    {\n      \"column\": \"text\",\n      \"properties\": {\n        \"dtype\": \"string\",\n        \"num_unique_values\": 70,\n        \"samples\": [\n          \"Yea, though I walk through the valley of the Shadow: \\u2014Psalm of David.    YE who read are still among the living; but I who write shall have long since gone my way into the region of shadows. For indeed strange things shall happen, and secret things be known, and many centuries shall pass away, ere these memorials be seen of men. And, when seen, there will be some to disbelieve, and some to doubt, and yet a few who will find much to ponder upon in the characters here graven with a stylus of iron.     The year had been a year of terror, and of feelings more intense than terror for which there is no name upon the earth. For many prodigies and signs had taken place, and far and wide, over sea and land, the black wings of the Pestilence were spread abroad. To those, nevertheless, cunning in the stars, it was not unknown that the heavens wore an aspect of ill; and to me, the Greek Oinos, among others, it was evident that now had arrived the alternation of that seven hundred and ninety-fourth year when, at the entrance of Aries, the planet Jupiter is conjoined with the red ring of the terrible Saturnus. The peculiar spirit of the skies, if I mistake not greatly, made itself manifest, not only in the physical orb of the earth, but in the souls, imaginations, and meditations of mankind.     Over some flasks of the red Chian wine, within the walls of a noble hall, in a dim city called Ptolemais, we sat, at night, a company of seven. And to our chamber there was no entrance save by a lofty door of brass: and the door was fashioned by the artisan Corinnos, and, being of rare workmanship, was fastened from within. Black draperies, likewise, in the gloomy room, shut out from our view the moon, the lurid stars, and the peopleless streets\\u2014but the boding and the memory of Evil they would not be so excluded. There were things around us and about of which I can render no distinct account\\u2014things material and spiritual\\u2014heaviness in the atmosphere\\u2014a sense of suffocation\\u2014anxiety\\u2014and, above all, that terrible state of existence which the nervous experience when the senses are keenly living and awake, and meanwhile the powers of thought lie dormant. A dead weight hung upon us. It hung upon our limbs\\u2014upon the household furniture\\u2014upon the goblets from which we drank; and all things were depressed, and borne down thereby\\u2014all things save only the flames of the seven lamps which illumined our revel. Uprearing themselves in tall slender lines of light, they thus remained burning all pallid and motionless; and in the mirror which their lustre formed upon the round table of ebony at which we sat, each of us there assembled beheld the pallor of his own countenance, and the unquiet glare in the downcast eyes of his companions. Yet we laughed and were merry in our proper way\\u2014which was hysterical; and sang the songs of Anacreon\\u2014which are madness; and drank deeply\\u2014although the purple wine reminded us of blood. For there was yet another tenant of our chamber in the person of young Zoilus. Dead, and at full length he lay, enshrouded; the genius and the demon of the scene. Alas! he bore no portion in our mirth, save that his countenance, distorted with the plague, and his eyes, in which Death had but half extinguished the fire of the pestilence, seemed to take such interest in our merriment as the dead may haply take in the merriment of those who are to die. But although I, Oinos, felt that the eyes of the departed were upon me, still I forced myself not to perceive the bitterness of their expression, and gazing down steadily into the depths of the ebony mirror, sang with a loud and sonorous voice the songs of the son of Teios. But gradually my songs they ceased, and their echoes, rolling afar off among the sable draperies of the chamber, became weak, and undistinguishable, and so faded away. And lo! from among those sable draperies where the sounds of the song departed, there came forth a dark and undefined shadow\\u2014a shadow such as the moon, when low in heaven, might fashion from the figure of a man: but it was the shadow neither of man nor of God, nor of any familiar thing. And quivering awhile among the draperies of the room, it at length rested in full view upon the surface of the door of brass. But the shadow was vague, and formless, and indefinite, and was the shadow neither of man nor of God\\u2014neither God of Greece, nor God of Chaldaea, nor any Egyptian God. And the shadow rested upon the brazen doorway, and under the arch of the entablature of the door, and moved not, nor spoke any word, but there became stationary and remained. And the door whereupon the shadow rested was, if I remember aright, over against the feet of the young Zoilus enshrouded. But we, the seven there assembled, having seen the shadow as it came out from among the draperies, dared not steadily behold it, but cast down our eyes, and gazed continually into the depths of the mirror of ebony. And at length I, Oinos, speaking some low words, demanded of the shadow its dwelling and its appellation. And the shadow answered, \\u201cI am SHADOW, and my dwelling is near to the Catacombs of Ptolemais, and hard by those dim plains of Helusion which border upon the foul Charonian canal.\\u201d And then did we, the seven, start from our seats in horror, and stand trembling, and shuddering, and aghast, for the tones in the voice of the shadow were not the tones of any one being, but of a multitude of beings, and, varying in their cadences from syllable to syllable fell duskly upon our ears in the well-remembered and familiar accents of many thousand departed friends.\",\n          \"The ways of God in Nature, as in Providence, are not as our ways; nor are the models that we frame any way commensurate to the vastness, profundity, and unsearchableness of His works, which have a depth in them greater than the well of Democritus. Joseph Glanville.    WE had now reached the summit of the loftiest crag. For some minutes the old man seemed too much exhausted to speak.     \\u201cNot long ago,\\u201d said he at length, \\u201cand I could have guided you on this route as well as the youngest of my sons; but, about three years past, there happened to me an event such as never happened to mortal man\\u2014or at least such as no man ever survived to tell of\\u2014and the six hours of deadly terror which I then endured have broken me up body and soul. You suppose me a very old man\\u2014but I am not. It took less than a single day to change these hairs from a jetty black to white, to weaken my limbs, and to unstring my nerves, so that I tremble at the least exertion, and am frightened at a shadow. Do you know I can scarcely look over this little cliff without getting giddy?\\u201d     The \\u201clittle cliff,\\u201d upon whose edge he had so carelessly thrown himself down to rest that the weightier portion of his body hung over it, while he was only kept from falling by the tenure of his elbow on its extreme and slippery edge\\u2014this \\u201clittle cliff\\u201d arose, a sheer unobstructed precipice of black shining rock, some fifteen or sixteen hundred feet from the world of crags beneath us. Nothing would have tempted me to within half a dozen yards of its brink. In truth so deeply was I excited by the perilous position of my companion, that I fell at full length upon the ground, clung to the shrubs around me, and dared not even glance upward at the sky\\u2014while I struggled in vain to divest myself of the idea that the very foundations of the mountain were in danger from the fury of the winds. It was long before I could reason myself into sufficient courage to sit up and look out into the distance.     \\u201cYou must get over these fancies,\\u201d said the guide, \\u201cfor I have brought you here that you might have the best possible view of the scene of that event I mentioned\\u2014and to tell you the whole story with the spot just under your eye.\\u201d     \\u201cWe are now,\\u201d he continued, in that particularizing manner which distinguished him\\u2014\\u201cwe are now close upon the Norwegian coast\\u2014in the sixty-eighth degree of latitude\\u2014in the great province of Nordland\\u2014and in the dreary district of Lofoden. The mountain upon whose top we sit is Helseggen, the Cloudy. Now raise yourself up a little higher\\u2014hold on to the grass if you feel giddy\\u2014so\\u2014and look out, beyond the belt of vapor beneath us, into the sea.\\u201d     I looked dizzily, and beheld a wide expanse of ocean, whose waters wore so inky a hue as to bring at once to my mind the Nubian geographer\\u2019s account of the Mare Tenebrarum. A panorama more deplorably desolate no human imagination can conceive. To the right and left, as far as the eye could reach, there lay outstretched, like ramparts of the world, lines of horridly black and beetling cliff, whose character of gloom was but the more forcibly illustrated by the surf which reared high up against its white and ghastly crest, howling and shrieking forever. Just opposite the promontory upon whose apex we were placed, and at a distance of some five or six miles out at sea, there was visible a small, bleak-looking island; or, more properly, its position was discernible through the wilderness of surge in which it was enveloped. About two miles nearer the land, arose another of smaller size, hideously craggy and barren, and encompassed at various intervals by a cluster of dark rocks.     The appearance of the ocean, in the space between the more distant island and the shore, had something very unusual about it. Although, at the time, so strong a gale was blowing landward that a brig in the remote offing lay to under a double-reefed trysail, and constantly plunged her whole hull out of sight, still there was here nothing like a regular swell, but only a short, quick, angry cross dashing of water in every direction\\u2014as well in the teeth of the wind as otherwise. Of foam there was little except in the immediate vicinity of the rocks.     \\u201cThe island in the distance,\\u201d resumed the old man, \\u201cis called by the Norwegians Vurrgh. The one midway is Moskoe. That a mile to the northward is Ambaaren. Yonder are Islesen, Hotholm, Keildhelm, Suarven, and Buckholm. Farther off\\u2014between Moskoe and Vurrgh\\u2014are Otterholm, Flimen, Sandflesen, and Stockholm. These are the true names of the places\\u2014but why it has been thought necessary to name them at all, is more than either you or I can understand. Do you hear anything? Do you see any change in the water?\\u201d     We had now been about ten minutes upon the top of Helseggen, to which we had ascended from the interior of Lofoden, so that we had caught no glimpse of the sea until it had burst upon us from the summit. As the old man spoke, I became aware of a loud and gradually increasing sound, like the moaning of a vast herd of buffaloes upon an American prairie; and at the same moment I perceived that what seamen term the chopping character of the ocean beneath us, was rapidly changing into a current which set to the eastward. Even while I gazed, this current acquired a monstrous velocity. Each moment added to its speed\\u2014to its headlong impetuosity. In five minutes the whole sea, as far as Vurrgh, was lashed into ungovernable fury; but it was between Moskoe and the coast that the main uproar held its sway. Here the vast bed of the waters, seamed and scarred into a thousand conflicting channels, burst suddenly into phrensied convulsion\\u2014heaving, boiling, hissing\\u2014gyrating in gigantic and innumerable vortices, and all whirling and plunging on to the eastward with a rapidity which water never elsewhere assumes except in precipitous descents.     In a few minutes more, there came over the scene another radical alteration. The general surface grew somewhat more smooth, and the whirlpools, one by one, disappeared, while prodigious streaks of foam became apparent where none had been seen before. These streaks, at length, spreading out to a great distance, and entering into combination, took unto themselves the gyratory motion of the subsided vortices, and seemed to form the germ of another more vast. Suddenly\\u2014very suddenly\\u2014this assumed a distinct and definite existence, in a circle of more than a mile in diameter. The edge of the whirl was represented by a broad belt of gleaming spray; but no particle of this slipped into the mouth of the terrific funnel, whose interior, as far as the eye could fathom it, was a smooth, shining, and jet-black wall of water, inclined to the horizon at an angle of some forty-five degrees, speeding dizzily round and round with a swaying and sweltering motion, and sending forth to the winds an appalling voice, half shriek, half roar, such as not even the mighty cataract of Niagara ever lifts up in its agony to Heaven.     The mountain trembled to its very base, and the rock rocked. I threw myself upon my face, and clung to the scant herbage in an excess of nervous agitation.     \\u201cThis,\\u201d said I at length, to the old man\\u2014\\u201cthis can be nothing else than the great whirlpool of the Maelstr\\u00f6m.\\u201d     \\u201cSo it is sometimes termed,\\u201d said he. \\u201cWe Norwegians call it the Moskoe-str\\u00f6m, from the island of Moskoe in the midway.\\u201d     The ordinary accounts of this vortex had by no means prepared me for what I saw. That of Jonas Ramus, which is perhaps the most circumstantial of any, cannot impart the faintest conception either of the magnificence, or of the horror of the scene\\u2014or of the wild bewildering sense of the novel which confounds the beholder. I am not sure from what point of view the writer in question surveyed it, nor at what time; but it could neither have been from the summit of Helseggen, nor during a storm. There are some passages of his description, nevertheless, which may be quoted for their details, although their effect is exceedingly feeble in conveying an impression of the spectacle.     \\u201cBetween Lofoden and Moskoe,\\u201d he says, \\u201cthe depth of the water is between thirty-six and forty fathoms; but on the other side, toward Ver (Vurrgh) this depth decreases so as not to afford a convenient passage for a vessel, without the risk of splitting on the rocks, which happens even in the calmest weather. When it is flood, the stream runs up the country between Lofoden and Moskoe with a boisterous rapidity; but the roar of its impetuous ebb to the sea is scarce equalled by the loudest and most dreadful cataracts; the noise being heard several leagues off, and the vortices or pits are of such an extent and depth, that if a ship comes within its attraction, it is inevitably absorbed and carried down to the bottom, and there beat to pieces against the rocks; and when the water relaxes, the fragments thereof are thrown up again. But these intervals of tranquility are only at the turn of the ebb and flood, and in calm weather, and last but a quarter of an hour, its violence gradually returning. When the stream is most boisterous, and its fury heightened by a storm, it is dangerous to come within a Norway mile of it. Boats, yachts, and ships have been carried away by not guarding against it before they were within its reach. It likewise happens frequently, that whales come too near the stream, and are overpowered by its violence; and then it is impossible to describe their howlings and bellowings in their fruitless struggles to disengage themselves. A bear once, attempting to swim from Lofoden to Moskoe, was caught by the stream and borne down, while he roared terribly, so as to be heard on shore. Large stocks of firs and pine trees, after being absorbed by the current, rise again broken and torn to such a degree as if bristles grew upon them. This plainly shows the bottom to consist of craggy rocks, among which they are whirled to and fro. This stream is regulated by the flux and reflux of the sea\\u2014it being constantly high and low water every six hours. In the year 1645, early in the morning of Sexagesima Sunday, it raged with such noise and impetuosity that the very stones of the houses on the coast fell to the ground.\\u201d     In regard to the depth of the water, I could not see how this could have been ascertained at all in the immediate vicinity of the vortex. The \\u201cforty fathoms\\u201d must have reference only to portions of the channel close upon the shore either of Moskoe or Lofoden. The depth in the centre of the Moskoe-str\\u00f6m must be immeasurably greater; and no better proof of this fact is necessary than can be obtained from even the sidelong glance into the abyss of the whirl which may be had from the highest crag of Helseggen. Looking down from this pinnacle upon the howling Phlegethon below, I could not help smiling at the simplicity with which the honest Jonas Ramus records, as a matter difficult of belief, the anecdotes of the whales and the bears; for it appeared to me, in fact, a self-evident thing, that the largest ship of the line in existence, coming within the influence of that deadly attraction, could resist it as little as a feather the hurricane, and must disappear bodily and at once.     The attempts to account for the phenomenon\\u2014some of which, I remember, seemed to me sufficiently plausible in perusal\\u2014now wore a very different and unsatisfactory aspect. The idea generally received is that this, as well as three smaller vortices among the Ferroe islands, \\u201chave no other cause than the collision of waves rising and falling, at flux and reflux, against a ridge of rocks and shelves, which confines the water so that it precipitates itself like a cataract; and thus the higher the flood rises, the deeper must the fall be, and the natural result of all is a whirlpool or vortex, the prodigious suction of which is sufficiently known by lesser experiments.\\u201d\\u2014These are the words of the Encyclop\\u00e6dia Britannica. Kircher and others imagine that in the centre of the channel of the Maelstr\\u00f6m is an abyss penetrating the globe, and issuing in some very remote part\\u2014the Gulf of Bothnia being somewhat decidedly named in one instance. This opinion, idle in itself, was the one to which, as I gazed, my imagination most readily assented; and, mentioning it to the guide, I was rather surprised to hear him say that, although it was the view almost universally entertained of the subject by the Norwegians, it nevertheless was not his own. As to the former notion he confessed his inability to comprehend it; and here I agreed with him\\u2014for, however conclusive on paper, it becomes altogether unintelligible, and even absurd, amid the thunder of the abyss.     \\u201cYou have had a good look at the whirl now,\\u201d said the old man, \\u201cand if you will creep round this crag, so as to get in its lee, and deaden the roar of the water, I will tell you a story that will convince you I ought to know something of the Moskoe-str\\u00f6m.\\u201d     I placed myself as desired, and he proceeded.     \\u201cMyself and my two brothers once owned a schooner-rigged smack of about seventy tons burthen, with which we were in the habit of fishing among the islands beyond Moskoe, nearly to Vurrgh. In all violent eddies at sea there is good fishing, at proper opportunities, if one has only the courage to attempt it; but among the whole of the Lofoden coastmen, we three were the only ones who made a regular business of going out to the islands, as I tell you. The usual grounds are a great way lower down to the southward. There fish can be got at all hours, without much risk, and therefore these places are preferred. The choice spots over here among the rocks, however, not only yield the finest variety, but in far greater abundance; so that we often got in a single day, what the more timid of the craft could not scrape together in a week. In fact, we made it a matter of desperate speculation\\u2014the risk of life standing instead of labor, and courage answering for capital.     \\u201cWe kept the smack in a cove about five miles higher up the coast than this; and it was our practice, in fine weather, to take advantage of the fifteen minutes\\u2019 slack to push across the main channel of the Moskoe-str\\u00f6m, far above the pool, and then drop down upon anchorage somewhere near Otterholm, or Sandflesen, where the eddies are not so violent as elsewhere. Here we used to remain until nearly time for slack-water again, when we weighed and made for home. We never set out upon this expedition without a steady side wind for going and coming\\u2014one that we felt sure would not fail us before our return\\u2014and we seldom made a mis-calculation upon this point. Twice, during six years, we were forced to stay all night at anchor on account of a dead calm, which is a rare thing indeed just about here; and once we had to remain on the grounds nearly a week, starving to death, owing to a gale which blew up shortly after our arrival, and made the channel too boisterous to be thought of. Upon this occasion we should have been driven out to sea in spite of everything, (for the whirlpools threw us round and round so violently, that, at length, we fouled our anchor and dragged it) if it had not been that we drifted into one of the innumerable cross currents\\u2014here to-day and gone to-morrow\\u2014which drove us under the lee of Flimen, where, by good luck, we brought up.     \\u201cI could not tell you the twentieth part of the difficulties we encountered \\u2018on the grounds\\u2019\\u2014it is a bad spot to be in, even in good weather\\u2014but we made shift always to run the gauntlet of the Moskoe-str\\u00f6m itself without accident; although at times my heart has been in my mouth when we happened to be a minute or so behind or before the slack. The wind sometimes was not as strong as we thought it at starting, and then we made rather less way than we could wish, while the current rendered the smack unmanageable. My eldest brother had a son eighteen years old, and I had two stout boys of my own. These would have been of great assistance at such times, in using the sweeps, as well as afterward in fishing\\u2014but, somehow, although we ran the risk ourselves, we had not the heart to let the young ones get into the danger\\u2014for, after all is said and done, it was a horrible danger, and that is the truth.     \\u201cIt is now within a few days of three years since what I am going to tell you occurred. It was on the tenth day of July, 18-, a day which the people of this part of the world will never forget\\u2014for it was one in which blew the most terrible hurricane that ever came out of the heavens. And yet all the morning, and indeed until late in the afternoon, there was a gentle and steady breeze from the south-west, while the sun shone brightly, so that the oldest seaman among us could not have foreseen what was to follow.     \\u201cThe three of us\\u2014my two brothers and myself\\u2014had crossed over to the islands about two o\\u2019clock P. M., and had soon nearly loaded the smack with fine fish, which, we all remarked, were more plenty that day than we had ever known them. It was just seven, by my watch, when we weighed and started for home, so as to make the worst of the Str\\u00f6m at slack water, which we knew would be at eight.     \\u201cWe set out with a fresh wind on our starboard quarter, and for some time spanked along at a great rate, never dreaming of danger, for indeed we saw not the slightest reason to apprehend it. All at once we were taken aback by a breeze from over Helseggen. This was most unusual\\u2014something that had never happened to us before\\u2014and I began to feel a little uneasy, without exactly knowing why. We put the boat on the wind, but could make no headway at all for the eddies, and I was upon the point of proposing to return to the anchorage, when, looking astern, we saw the whole horizon covered with a singular copper-colored cloud that rose with the most amazing velocity.     \\u201cIn the meantime the breeze that had headed us off fell away, and we were dead becalmed, drifting about in every direction. This state of things, however, did not last long enough to give us time to think about it. In less than a minute the storm was upon us\\u2014in less than two the sky was entirely overcast\\u2014and what with this and the driving spray, it became suddenly so dark that we could not see each other in the smack.     \\u201cSuch a hurricane as then blew it is folly to attempt describing. The oldest seaman in Norway never experienced any thing like it. We had let our sails go by the run before it cleverly took us; but, at the first puff, both our masts went by the board as if they had been sawed off\\u2014the mainmast taking with it my youngest brother, who had lashed himself to it for safety.     \\u201cOur boat was the lightest feather of a thing that ever sat upon water. It had a complete flush deck, with only a small hatch near the bow, and this hatch it had always been our custom to batten down when about to cross the Str\\u00f6m, by way of precaution against the chopping seas. But for this circumstance we should have foundered at once\\u2014for we lay entirely buried for some moments. How my elder brother escaped destruction I cannot say, for I never had an opportunity of ascertaining. For my part, as soon as I had let the foresail run, I threw myself flat on deck, with my feet against the narrow gunwale of the bow, and with my hands grasping a ring-bolt near the foot of the fore-mast. It was mere instinct that prompted me to do this\\u2014which was undoubtedly the very best thing I could have done\\u2014for I was too much flurried to think.     \\u201cFor some moments we were completely deluged, as I say, and all this time I held my breath, and clung to the bolt. When I could stand it no longer I raised myself upon my knees, still keeping hold with my hands, and thus got my head clear. Presently our little boat gave herself a shake, just as a dog does in coming out of the water, and thus rid herself, in some measure, of the seas. I was now trying to get the better of the stupor that had come over me, and to collect my senses so as to see what was to be done, when I felt somebody grasp my arm. It was my elder brother, and my heart leaped for joy, for I had made sure that he was overboard\\u2014but the next moment all this joy was turned into horror\\u2014for he put his mouth close to my ear, and screamed out the word \\u2018Moskoe-str\\u00f6m!\\u2019     \\u201cNo one ever will know what my feelings were at that moment. I shook from head to foot as if I had had the most violent fit of the ague. I knew what he meant by that one word well enough\\u2014I knew what he wished to make me understand. With the wind that now drove us on, we were bound for the whirl of the Str\\u00f6m, and nothing could save us!     \\u201cYou perceive that in crossing the Str\\u00f6m channel, we always went a long way up above the whirl, even in the calmest weather, and then had to wait and watch carefully for the slack\\u2014but now we were driving right upon the pool itself, and in such a hurricane as this! \\u2018To be sure,\\u2019 I thought, \\u2018we shall get there just about the slack\\u2014there is some little hope in that\\u2019\\u2014but in the next moment I cursed myself for being so great a fool as to dream of hope at all. I knew very well that we were doomed, had we been ten times a ninety-gun ship.     \\u201cBy this time the first fury of the tempest had spent itself, or perhaps we did not feel it so much, as we scudded before it, but at all events the seas, which at first had been kept down by the wind, and lay flat and frothing, now got up into absolute mountains. A singular change, too, had come over the heavens. Around in every direction it was still as black as pitch, but nearly overhead there burst out, all at once, a circular rift of clear sky\\u2014as clear as I ever saw\\u2014and of a deep bright blue\\u2014and through it there blazed forth the full moon with a lustre that I never before knew her to wear. She lit up every thing about us with the greatest distinctness\\u2014but, oh God, what a scene it was to light up!     \\u201cI now made one or two attempts to speak to my brother\\u2014but, in some manner which I could not understand, the din had so increased that I could not make him hear a single word, although I screamed at the top of my voice in his ear. Presently he shook his head, looking as pale as death, and held up one of his fingers, as if to say \\u2018listen! \\u2018     \\u201cAt first I could not make out what he meant\\u2014but soon a hideous thought flashed upon me. I dragged my watch from its fob. It was not going. I glanced at its face by the moonlight, and then burst into tears as I flung it far away into the ocean. It had run down at seven o\\u2019clock! We were behind the time of the slack, and the whirl of the Str\\u00f6m was in full fury!     \\u201cWhen a boat is well built, properly trimmed, and not deep laden, the waves in a strong gale, when she is going large, seem always to slip from beneath her\\u2014which appears very strange to a landsman\\u2014and this is what is called riding, in sea phrase. Well, so far we had ridden the swells very cleverly; but presently a gigantic sea happened to take us right under the counter, and bore us with it as it rose\\u2014up\\u2014up\\u2014as if into the sky. I would not have believed that any wave could rise so high. And then down we came with a sweep, a slide, and a plunge, that made me feel sick and dizzy, as if I was falling from some lofty mountain-top in a dream. But while we were up I had thrown a quick glance around\\u2014and that one glance was all sufficient. I saw our exact position in an instant. The Moskoe-Str\\u00f6m whirlpool was about a quarter of a mile dead ahead\\u2014but no more like the every-day Moskoe-Str\\u00f6m, than the whirl as you now see it is like a mill-race. If I had not known where we were, and what we had to expect, I should not have recognised the place at all. As it was, I involuntarily closed my eyes in horror. The lids clenched themselves together as if in a spasm.     \\u201cIt could not have been more than two minutes afterward until we suddenly felt the waves subside, and were enveloped in foam. The boat made a sharp half turn to larboard, and then shot off in its new direction like a thunderbolt. At the same moment the roaring noise of the water was completely drowned in a kind of shrill shriek\\u2014such a sound as you might imagine given out by the waste-pipes of many thousand steam-vessels, letting off their steam all together. We were now in the belt of surf that always surrounds the whirl; and I thought, of course, that another moment would plunge us into the abyss\\u2014down which we could only see indistinctly on account of the amazing velocity with which we wore borne along. The boat did not seem to sink into the water at all, but to skim like an air-bubble upon the surface of the surge. Her starboard side was next the whirl, and on the larboard arose the world of ocean we had left. It stood like a huge writhing wall between us and the horizon.     \\u201cIt may appear strange, but now, when we were in the very jaws of the gulf, I felt more composed than when we were only approaching it. Having made up my mind to hope no more, I got rid of a great deal of that terror which unmanned me at first. I suppose it was despair that strung my nerves.     \\u201cIt may look like boasting\\u2014but what I tell you is truth\\u2014I began to reflect how magnificent a thing it was to die in such a manner, and how foolish it was in me to think of so paltry a consideration as my own individual life, in view of so wonderful a manifestation of God\\u2019s power. I do believe that I blushed with shame when this idea crossed my mind. After a little while I became possessed with the keenest curiosity about the whirl itself. I positively felt a wish to explore its depths, even at the sacrifice I was going to make; and my principal grief was that I should never be able to tell my old companions on shore about the mysteries I should see. These, no doubt, were singular fancies to occupy a man\\u2019s mind in such extremity\\u2014and I have often thought since, that the revolutions of the boat around the pool might have rendered me a little light-headed.     \\u201cThere was another circumstance which tended to restore my self-possession; and this was the cessation of the wind, which could not reach us in our present situation\\u2014for, as you saw yourself, the belt of surf is considerably lower than the general bed of the ocean, and this latter now towered above us, a high, black, mountainous ridge. If you have never been at sea in a heavy gale, you can form no idea of the confusion of mind occasioned by the wind and spray together. They blind, deafen, and strangle you, and take away all power of action or reflection. But we were now, in a great measure, rid of these annoyances\\u2014just as death-condemned felons in prison are allowed petty indulgences, forbidden them while their doom is yet uncertain.     \\u201cHow often we made the circuit of the belt it is impossible to say. We careered round and round for perhaps an hour, flying rather than floating, getting gradually more and more into the middle of the surge, and then nearer and nearer to its horrible inner edge. All this time I had never let go of the ring-bolt. My brother was at the stern, holding on to a small empty water-cask which had been securely lashed under the coop of the counter, and was the only thing on deck that had not been swept overboard when the gale first took us. As we approached the brink of the pit he let go his hold upon this, and made for the ring, from which, in the agony of his terror, he endeavored to force my hands, as it was not large enough to afford us both a secure grasp. I never felt deeper grief than when I saw him attempt this act\\u2014although I knew he was a madman when he did it\\u2014a raving maniac through sheer fright. I did not care, however, to contest the point with him. I knew it could make no difference whether either of us held on at all; so I let him have the bolt, and went astern to the cask. This there was no great difficulty in doing; for the smack flew round steadily enough, and upon an even keel\\u2014only swaying to and fro, with the immense sweeps and swelters of the whirl. Scarcely had I secured myself in my new position, when we gave a wild lurch to starboard, and rushed headlong into the abyss. I muttered a hurried prayer to God, and thought all was over.     \\u201cAs I felt the sickening sweep of the descent, I had instinctively tightened my hold upon the barrel, and closed my eyes. For some seconds I dared not open them\\u2014while I expected instant destruction, and wondered that I was not already in my death-struggles with the water. But moment after moment elapsed. I still lived. The sense of falling had ceased; and the motion of the vessel seemed much as it had been before, while in the belt of foam, with the exception that she now lay more along. I took courage, and looked once again upon the scene.     \\u201cNever shall I forget the sensations of awe, horror, and admiration with which I gazed about me. The boat appeared to be hanging, as if by magic, midway down, upon the interior surface of a funnel vast in circumference, prodigious in depth, and whose perfectly smooth sides might have been mistaken for ebony, but for the bewildering rapidity with which they spun around, and for the gleaming and ghastly radiance they shot forth, as the rays of the full moon, from that circular rift amid the clouds which I have already described, streamed in a flood of golden glory along the black walls, and far away down into the inmost recesses of the abyss.     \\u201cAt first I was too much confused to observe anything accurately. The general burst of terrific grandeur was all that I beheld. When I recovered myself a little, however, my gaze fell instinctively downward. In this direction I was able to obtain an unobstructed view, from the manner in which the smack hung on the inclined surface of the pool. She was quite upon an even keel\\u2014that is to say, her deck lay in a plane parallel with that of the water\\u2014but this latter sloped at an angle of more than forty-five degrees, so that we seemed to be lying upon our beam-ends. I could not help observing, nevertheless, that I had scarcely more difficulty in maintaining my hold and footing in this situation, than if we had been upon a dead level; and this, I suppose, was owing to the speed at which we revolved.     \\u201cThe rays of the moon seemed to search the very bottom of the profound gulf; but still I could make out nothing distinctly, on account of a thick mist in which everything there was enveloped, and over which there hung a magnificent rainbow, like that narrow and tottering bridge which Mussulmen say is the only pathway between Time and Eternity. This mist, or spray, was no doubt occasioned by the clashing of the great walls of the funnel, as they all met together at the bottom\\u2014but the yell that went up to the Heavens from out of that mist, I dare not attempt to describe.     \\u201cOur first slide into the abyss itself, from the belt of foam above, had carried us a great distance down the slope; but our farther descent was by no means proportionate. Round and round we swept\\u2014not with any uniform movement\\u2014but in dizzying swings and jerks, that sent us sometimes only a few hundred yards\\u2014sometimes nearly the complete circuit of the whirl. Our progress downward, at each revolution, was slow, but very perceptible.     \\u201cLooking about me upon the wide waste of liquid ebony on which we were thus borne, I perceived that our boat was not the only object in the embrace of the whirl. Both above and below us were visible fragments of vessels, large masses of building timber and trunks of trees, with many smaller articles, such as pieces of house furniture, broken boxes, barrels and staves. I have already described the unnatural curiosity which had taken the place of my original terrors. It appeared to grow upon me as I drew nearer and nearer to my dreadful doom. I now began to watch, with a strange interest, the numerous things that floated in our company. I must have been delirious\\u2014for I even sought amusement in speculating upon the relative velocities of their several descents toward the foam below. \\u2018This fir tree,\\u2019 I found myself at one time saying, \\u2018will certainly be the next thing that takes the awful plunge and disappears,\\u2019\\u2014and then I was disappointed to find that the wreck of a Dutch merchant ship overtook it and went down before. At length, after making several guesses of this nature, and being deceived in all\\u2014this fact\\u2014the fact of my invariable miscalculation\\u2014set me upon a train of reflection that made my limbs again tremble, and my heart beat heavily once more.     \\u201cIt was not a new terror that thus affected me, but the dawn of a more exciting hope. This hope arose partly from memory, and partly from present observation. I called to mind the great variety of buoyant matter that strewed the coast of Lofoden, having been absorbed and then thrown forth by the Moskoe-str\\u00f6m. By far the greater number of the articles were shattered in the most extraordinary way\\u2014so chafed and roughened as to have the appearance of being stuck full of splinters\\u2014but then I distinctly recollected that there were some of them which were not disfigured at all. Now I could not account for this difference except by supposing that the roughened fragments were the only ones which had been completely absorbed\\u2014that the others had entered the whirl at so late a period of the tide, or, for some reason, had descended so slowly after entering, that they did not reach the bottom before the turn of the flood came, or of the ebb, as the case might be. I conceived it possible, in either instance, that they might thus be whirled up again to the level of the ocean, without undergoing the fate of those which had been drawn in more early, or absorbed more rapidly. I made, also, three important observations. The first was, that, as a general rule, the larger the bodies were, the more rapid their descent\\u2014the second, that, between two masses of equal extent, the one spherical, and the other of any other shape, the superiority in speed of descent was with the sphere\\u2014the third, that, between two masses of equal size, the one cylindrical, and the other of any other shape, the cylinder was absorbed the more slowly. Since my escape, I have had several conversations on this subject with an old school-master of the district; and it was from him that I learned the use of the words \\u2018cylinder\\u2019 and \\u2018sphere.\\u2019 He explained to me\\u2014although I have forgotten the explanation\\u2014how what I observed was, in fact, the natural consequence of the forms of the floating fragments\\u2014and showed me how it happened that a cylinder, swimming in a vortex, offered more resistance to its suction, and was drawn in with greater difficulty than an equally bulky body, of any form whatever. (*1)     \\u201cThere was one startling circumstance which went a great way in enforcing these observations, and rendering me anxious to turn them to account, and this was that, at every revolution, we passed something like a barrel, or else the yard or the mast of a vessel, while many of these things, which had been on our level when I first opened my eyes upon the wonders of the whirlpool, were now high up above us, and seemed to have moved but little from their original station.     \\u201cI no longer hesitated what to do. I resolved to lash myself securely to the water cask upon which I now held, to cut it loose from the counter, and to throw myself with it into the water. I attracted my brother\\u2019s attention by signs, pointed to the floating barrels that came near us, and did everything in my power to make him understand what I was about to do. I thought at length that he comprehended my design\\u2014but, whether this was the case or not, he shook his head despairingly, and refused to move from his station by the ring-bolt. It was impossible to reach him; the emergency admitted of no delay; and so, with a bitter struggle, I resigned him to his fate, fastened myself to the cask by means of the lashings which secured it to the counter, and precipitated myself with it into the sea, without another moment\\u2019s hesitation.     \\u201cThe result was precisely what I had hoped it might be. As it is myself who now tell you this tale\\u2014as you see that I did escape\\u2014and as you are already in possession of the mode in which this escape was effected, and must therefore anticipate all that I have farther to say\\u2014I will bring my story quickly to conclusion. It might have been an hour, or thereabout, after my quitting the smack, when, having descended to a vast distance beneath me, it made three or four wild gyrations in rapid succession, and, bearing my loved brother with it, plunged headlong, at once and forever, into the chaos of foam below. The barrel to which I was attached sunk very little farther than half the distance between the bottom of the gulf and the spot at which I leaped overboard, before a great change took place in the character of the whirlpool. The slope of the sides of the vast funnel became momently less and less steep. The gyrations of the whirl grew, gradually, less and less violent. By degrees, the froth and the rainbow disappeared, and the bottom of the gulf seemed slowly to uprise. The sky was clear, the winds had gone down, and the full moon was setting radiantly in the west, when I found myself on the surface of the ocean, in full view of the shores of Lofoden, and above the spot where the pool of the Moskoe-str\\u00f6m had been. It was the hour of the slack\\u2014but the sea still heaved in mountainous waves from the effects of the hurricane. I was borne violently into the channel of the Str\\u00f6m, and in a few minutes was hurried down the coast into the \\u2018grounds\\u2019 of the fishermen. A boat picked me up\\u2014exhausted from fatigue\\u2014and (now that the danger was removed) speechless from the memory of its horror. Those who drew me on board were my old mates and daily companions\\u2014but they knew me no more than they would have known a traveller from the spirit-land. My hair which had been raven-black the day before, was as white as you see it now. They say too that the whole expression of my countenance had changed. I told them my story\\u2014they did not believe it. I now tell it to you\\u2014and I can scarcely expect you to put more faith in it than did the merry fishermen of Lofoden.\\u201d\",\n          \"OINOS. Pardon, Agathos, the weakness of a spirit new-fledged with immortality!     AGATHOS. You have spoken nothing, my Oinos, for which pardon is to be demanded. Not even here is knowledge thing of intuition. For wisdom, ask of the angels freely, that it may be given!     OINOS. But in this existence, I dreamed that I should be at once cognizant of all things, and thus at once be happy in being cognizant of all.     AGATHOS. Ah, not in knowledge is happiness, but in the acquisition of knowledge! In for ever knowing, we are for ever blessed; but to know all were the curse of a fiend.     OINOS. But does not The Most High know all?     AGATHOS. That (since he is The Most Happy) must be still the one thing unknown even to Him.     OINOS. But, since we grow hourly in knowledge, must not at last all things be known?     AGATHOS. Look down into the abysmal distances!\\u2014attempt to force the gaze down the multitudinous vistas of the stars, as we sweep slowly through them thus\\u2014and thus\\u2014and thus! Even the spiritual vision, is it not at all points arrested by the continuous golden walls of the universe?\\u2014the walls of the myriads of the shining bodies that mere number has appeared to blend into unity?     OINOS. I clearly perceive that the infinity of matter is no dream.     AGATHOS. There are no dreams in Aidenn\\u2014but it is here whispered that, of this infinity of matter, the sole purpose is to afford infinite springs, at which the soul may allay the thirst to know, which is for ever unquenchable within it\\u2014since to quench it, would be to extinguish the soul\\u2019s self. Question me then, my Oinos, freely and without fear. Come! we will leave to the left the loud harmony of the Pleiades, and swoop outward from the throne into the starry meadows beyond Orion, where, for pansies and violets, and heart\\u2019s\\u2014ease, are the beds of the triplicate and triple\\u2014tinted suns.     OINOS. And now, Agathos, as we proceed, instruct me!\\u2014speak to me in the earth\\u2019s familiar tones. I understand not what you hinted to me, just now, of the modes or of the method of what, during mortality, we were accustomed to call Creation. Do you mean to say that the Creator is not God?     AGATHOS. I mean to say that the Deity does not create.     OINOS. Explain.     AGATHOS. In the beginning only, he created. The seeming creatures which are now, throughout the universe, so perpetually springing into being, can only be considered as the mediate or indirect, not as the direct or immediate results of the Divine creative power.     OINOS. Among men, my Agathos, this idea would be considered heretical in the extreme.     AGATHOS. Among angels, my Oinos, it is seen to be simply true.     OINOS. I can comprehend you thus far\\u2014that certain operations of what we term Nature, or the natural laws, will, under certain conditions, give rise to that which has all the appearance of creation. Shortly before the final overthrow of the earth, there were, I well remember, many very successful experiments in what some philosophers were weak enough to denominate the creation of animalculae.     AGATHOS. The cases of which you speak were, in fact, instances of the secondary creation\\u2014and of the only species of creation which has ever been, since the first word spoke into existence the first law.     OINOS. Are not the starry worlds that, from the abyss of nonentity, burst hourly forth into the heavens\\u2014are not these stars, Agathos, the immediate handiwork of the King?     AGATHOS. Let me endeavor, my Oinos, to lead you, step by step, to the conception I intend. You are well aware that, as no thought can perish, so no act is without infinite result. We moved our hands, for example, when we were dwellers on the earth, and, in so doing, gave vibration to the atmosphere which engirdled it. This vibration was indefinitely extended, till it gave impulse to every particle of the earth\\u2019s air, which thenceforward, and for ever, was actuated by the one movement of the hand. This fact the mathematicians of our globe well knew. They made the special effects, indeed, wrought in the fluid by special impulses, the subject of exact calculation\\u2014so that it became easy to determine in what precise period an impulse of given extent would engirdle the orb, and impress (for ever) every atom of the atmosphere circumambient. Retrograding, they found no difficulty, from a given effect, under given conditions, in determining the value of the original impulse. Now the mathematicians who saw that the results of any given impulse were absolutely endless\\u2014and who saw that a portion of these results were accurately traceable through the agency of algebraic analysis\\u2014who saw, too, the facility of the retrogradation\\u2014these men saw, at the same time, that this species of analysis itself, had within itself a capacity for indefinite progress\\u2014that there were no bounds conceivable to its advancement and applicability, except within the intellect of him who advanced or applied it. But at this point our mathematicians paused.     OINOS. And why, Agathos, should they have proceeded?     AGATHOS. Because there were some considerations of deep interest beyond. It was deducible from what they knew, that to a being of infinite understanding\\u2014one to whom the perfection of the algebraic analysis lay unfolded\\u2014there could be no difficulty in tracing every impulse given the air\\u2014and the ether through the air\\u2014to the remotest consequences at any even infinitely remote epoch of time. It is indeed demonstrable that every such impulse given the air, must, in the end, impress every individual thing that exists within the universe;\\u2014and the being of infinite understanding\\u2014the being whom we have imagined\\u2014might trace the remote undulations of the impulse\\u2014trace them upward and onward in their influences upon all particles of an matter\\u2014upward and onward for ever in their modifications of old forms\\u2014or, in other words, in their creation of new\\u2014until he found them reflected\\u2014unimpressive at last\\u2014back from the throne of the Godhead. And not only could such a thing do this, but at any epoch, should a given result be afforded him\\u2014should one of these numberless comets, for example, be presented to his inspection\\u2014he could have no difficulty in determining, by the analytic retrogradation, to what original impulse it was due. This power of retrogradation in its absolute fulness and perfection\\u2014this faculty of referring at all epochs, all effects to all causes\\u2014is of course the prerogative of the Deity alone\\u2014but in every variety of degree, short of the absolute perfection, is the power itself exercised by the whole host of the Angelic intelligences.     OINOS. But you speak merely of impulses upon the air.     AGATHOS. In speaking of the air, I referred only to the earth; but the general proposition has reference to impulses upon the ether\\u2014which, since it pervades, and alone pervades all space, is thus the great medium of creation.     OINOS. Then all motion, of whatever nature, creates?     AGATHOS. It must: but a true philosophy has long taught that the source of all motion is thought\\u2014and the source of all thought is\\u2014     OINOS. God.     AGATHOS. I have spoken to you, Oinos, as to a child of the fair Earth which lately perished\\u2014of impulses upon the atmosphere of the Earth.     OINOS. You did.     AGATHOS. And while I thus spoke, did there not cross your mind some thought of the physical power of words? Is not every word an impulse on the air?     OINOS. But why, Agathos, do you weep\\u2014and why, oh why do your wings droop as we hover above this fair star\\u2014which is the greenest and yet most terrible of all we have encountered in our flight? Its brilliant flowers look like a fairy dream\\u2014but its fierce volcanoes like the passions of a turbulent heart.     AGATHOS. They are!\\u2014they are! This wild star\\u2014it is now three centuries since, with clasped hands, and with streaming eyes, at the feet of my beloved\\u2014I spoke it\\u2014with a few passionate sentences\\u2014into birth. Its brilliant flowers are the dearest of all unfulfilled dreams, and its raging volcanoes are the passions of the most turbulent and unhallowed of hearts.\"\n        ],\n        \"semantic_type\": \"\",\n        \"description\": \"\"\n      }\n    },\n    {\n      \"column\": \"wikipedia_title\",\n      \"properties\": {\n        \"dtype\": \"string\",\n        \"num_unique_values\": 63,\n        \"samples\": [\n          \"William Wilson\",\n          \"Thou Art the Man\",\n          \"A Descent into the Maelstr\\u00f6m\"\n        ],\n        \"semantic_type\": \"\",\n        \"description\": \"\"\n      }\n    },\n    {\n      \"column\": \"publication_date\",\n      \"properties\": {\n        \"dtype\": \"string\",\n        \"num_unique_values\": 68,\n        \"samples\": [\n          \"? 1843\",\n          \"January 14, 1832\",\n          \"March 1835\"\n        ],\n        \"semantic_type\": \"\",\n        \"description\": \"\"\n      }\n    },\n    {\n      \"column\": \"first_published_in\",\n      \"properties\": {\n        \"dtype\": \"category\",\n        \"num_unique_values\": 27,\n        \"samples\": [\n          \"Baltimore Saturday Visiter\",\n          \"Burton's Gentleman's Magazine\",\n          \"American Monthly Magazine\"\n        ],\n        \"semantic_type\": \"\",\n        \"description\": \"\"\n      }\n    },\n    {\n      \"column\": \"classification\",\n      \"properties\": {\n        \"dtype\": \"category\",\n        \"num_unique_values\": 22,\n        \"samples\": [\n          \"Adventure\",\n          \"Humor,Satire\",\n          \"Satire\"\n        ],\n        \"semantic_type\": \"\",\n        \"description\": \"\"\n      }\n    },\n    {\n      \"column\": \"notes\",\n      \"properties\": {\n        \"dtype\": \"category\",\n        \"num_unique_values\": 27,\n        \"samples\": [\n          \"Republished in the February 15, 1845, issue of the New York World, included the poem \\\"The Conqueror Worm\\\" as words written by Ligeia on her death-bed\",\n          \"Subtitled \\\"A Tale with a Moral\\\"\",\n          \"Subtitle: \\\"A Tale\\\"\"\n        ],\n        \"semantic_type\": \"\",\n        \"description\": \"\"\n      }\n    },\n    {\n      \"column\": \"normalized_date\",\n      \"properties\": {\n        \"dtype\": \"string\",\n        \"num_unique_values\": 65,\n        \"samples\": [\n          \"February 1845\",\n          \" ?\",\n          \"May 1841\"\n        ],\n        \"semantic_type\": \"\",\n        \"description\": \"\"\n      }\n    }\n  ]\n}"
            }
          },
          "metadata": {},
          "execution_count": 41
        }
      ]
    },
    {
      "cell_type": "code",
      "source": [
        "df.info()"
      ],
      "metadata": {
        "colab": {
          "base_uri": "https://localhost:8080/"
        },
        "collapsed": true,
        "id": "S9ZHLJzFYw18",
        "outputId": "3b98f144-3569-47b7-9103-532171f821c7"
      },
      "execution_count": null,
      "outputs": [
        {
          "output_type": "stream",
          "name": "stdout",
          "text": [
            "<class 'pandas.core.frame.DataFrame'>\n",
            "RangeIndex: 70 entries, 0 to 69\n",
            "Data columns (total 8 columns):\n",
            " #   Column              Non-Null Count  Dtype \n",
            "---  ------              --------------  ----- \n",
            " 0   title               70 non-null     object\n",
            " 1   text                70 non-null     object\n",
            " 2   wikipedia_title     70 non-null     object\n",
            " 3   publication_date    70 non-null     object\n",
            " 4   first_published_in  70 non-null     object\n",
            " 5   classification      70 non-null     object\n",
            " 6   notes               70 non-null     object\n",
            " 7   normalized_date     70 non-null     object\n",
            "dtypes: object(8)\n",
            "memory usage: 4.5+ KB\n"
          ]
        }
      ]
    },
    {
      "cell_type": "code",
      "source": [
        "import nltk\n",
        "from nltk.util import bigrams\n",
        "from nltk.probability import FreqDist, ConditionalFreqDist\n",
        "from nltk.tokenize import word_tokenize\n",
        "nltk.download('punkt')\n",
        "nltk.download('punkt_tab')"
      ],
      "metadata": {
        "colab": {
          "base_uri": "https://localhost:8080/"
        },
        "id": "nDWGTLDfILCN",
        "outputId": "51987026-fc95-411e-f25f-6b2c3880c668"
      },
      "execution_count": null,
      "outputs": [
        {
          "output_type": "stream",
          "name": "stderr",
          "text": [
            "[nltk_data] Downloading package punkt to /root/nltk_data...\n",
            "[nltk_data]   Package punkt is already up-to-date!\n",
            "[nltk_data] Downloading package punkt_tab to /root/nltk_data...\n",
            "[nltk_data]   Unzipping tokenizers/punkt_tab.zip.\n"
          ]
        },
        {
          "output_type": "execute_result",
          "data": {
            "text/plain": [
              "True"
            ]
          },
          "metadata": {},
          "execution_count": 44
        }
      ]
    },
    {
      "cell_type": "code",
      "source": [
        "all_text = \" \".join(df['text'].dropna().tolist())\n",
        "tokens = word_tokenize(all_text.lower())"
      ],
      "metadata": {
        "id": "nPTrDvd5IK-2"
      },
      "execution_count": null,
      "outputs": []
    },
    {
      "cell_type": "code",
      "source": [
        "bigrams_list = list(bigrams(tokens))\n",
        "\n",
        "bigram_freq = FreqDist(bigrams_list)\n",
        "\n",
        "print(bigram_freq.most_common(10))"
      ],
      "metadata": {
        "colab": {
          "base_uri": "https://localhost:8080/"
        },
        "id": "EyVOMNSQIK8S",
        "outputId": "39d0f819-1eaf-4814-e25b-588d525e21fc"
      },
      "execution_count": null,
      "outputs": [
        {
          "output_type": "stream",
          "name": "stdout",
          "text": [
            "[(('of', 'the'), 4690), ((',', 'and'), 4473), (('in', 'the'), 1998), (('.', 'the'), 1383), (('to', 'the'), 1274), ((',', 'i'), 1173), ((',', 'in'), 1165), (('.', 'i'), 1153), ((',', 'the'), 1112), (('of', 'a'), 846)]\n"
          ]
        }
      ]
    },
    {
      "cell_type": "code",
      "source": [
        "cfd = ConditionalFreqDist(bigrams_list)\n",
        "print(cfd['the'].most_common(5))"
      ],
      "metadata": {
        "colab": {
          "base_uri": "https://localhost:8080/"
        },
        "id": "wW5aGiVmIK1a",
        "outputId": "81d50bad-19ad-4ac2-f019-244228a2171f"
      },
      "execution_count": null,
      "outputs": [
        {
          "output_type": "stream",
          "name": "stdout",
          "text": [
            "[('most', 324), ('whole', 221), ('“', 196), ('same', 180), ('first', 167)]\n"
          ]
        }
      ]
    },
    {
      "cell_type": "code",
      "source": [
        "bigram_freq.plot(20, title = 'En cox islenen 20 bigram')"
      ],
      "metadata": {
        "colab": {
          "base_uri": "https://localhost:8080/",
          "height": 565
        },
        "id": "RXkT-_l0Nz5Y",
        "outputId": "ae511f15-902e-4733-edc9-886a732baad1"
      },
      "execution_count": null,
      "outputs": [
        {
          "output_type": "execute_result",
          "data": {
            "text/plain": [
              "<Axes: title={'center': 'En cox islenen 20 bigram'}, xlabel='Samples', ylabel='Counts'>"
            ]
          },
          "metadata": {},
          "execution_count": 50
        },
        {
          "output_type": "display_data",
          "data": {
            "text/plain": [
              "<Figure size 640x480 with 1 Axes>"
            ],
            "image/png": "[encoded data removed]"
          },
          "metadata": {}
        }
      ]
    },
    {
      "cell_type": "code",
      "source": [],
      "metadata": {
        "id": "gF9rzCj4OMdq"
      },
      "execution_count": null,
      "outputs": []
    },
    {
      "cell_type": "code",
      "source": [],
      "metadata": {
        "id": "leSy1C-FOMak"
      },
      "execution_count": null,
      "outputs": []
    }
  ]
}